{
 "cells": [
  {
   "cell_type": "code",
   "execution_count": 3,
   "metadata": {},
   "outputs": [],
   "source": [
    "import os\n",
    "import time\n",
    "import copy\n",
    "import glob\n",
    "import cv2\n",
    "import shutil\n",
    "\n",
    "import torch\n",
    "import torchvision\n",
    "import torchvision.transforms as transforms\n",
    "import torchvision.models as models\n",
    "import torch.nn as nn\n",
    "import torch.optim as optim\n",
    "from torch.utils.data import DataLoader\n",
    "\n",
    "import numpy as np\n",
    "import matplotlib.pyplot as plt"
   ]
  },
  {
   "cell_type": "markdown",
   "metadata": {},
   "source": [
    "# 전이 학습(Transfer Learning)"
   ]
  },
  {
   "cell_type": "markdown",
   "metadata": {},
   "source": [
    "## 특성 추출 기법"
   ]
  },
  {
   "cell_type": "markdown",
   "metadata": {},
   "source": [
    "### 이미지 데이터 전처리 방법 정의"
   ]
  },
  {
   "cell_type": "code",
   "execution_count": 2,
   "metadata": {},
   "outputs": [
    {
     "name": "stdout",
     "output_type": "stream",
     "text": [
      "385\n",
      "98\n"
     ]
    }
   ],
   "source": [
    "train_path = '/home/xogns5037/Basic_PyTorch/data/catanddog/train'\n",
    "test_path = '/home/xogns5037/Basic_PyTorch/data/catanddog/test'\n",
    "\n",
    "transform = transforms.Compose(\n",
    "    [\n",
    "        transforms.Resize((256, 256)),\n",
    "        transforms.RandomResizedCrop(224),\n",
    "        transforms.RandomHorizontalFlip(),\n",
    "        transforms.ToTensor(),\n",
    "    ]\n",
    ")\n",
    "train_dataset = torchvision.datasets.ImageFolder(root=train_path, transform=transform)\n",
    "train_loader = torch.utils.data.DataLoader(\n",
    "    train_dataset,\n",
    "    batch_size=32,\n",
    "    num_workers=8,\n",
    "    shuffle=True\n",
    ")\n",
    "\n",
    "test_dataset = torchvision.datasets.ImageFolder(root=test_path, transform=transform)\n",
    "test_loader = torch.utils.data.DataLoader(\n",
    "    test_dataset,\n",
    "    batch_size=32,\n",
    "    num_workers=8,\n",
    "    shuffle=False\n",
    ")\n",
    "\n",
    "print(len(train_dataset))\n",
    "print(len(test_dataset))"
   ]
  },
  {
   "cell_type": "markdown",
   "metadata": {},
   "source": [
    "### 사전 훈련된 모델 내려받기"
   ]
  },
  {
   "cell_type": "code",
   "execution_count": 3,
   "metadata": {},
   "outputs": [
    {
     "name": "stderr",
     "output_type": "stream",
     "text": [
      "/home/xogns5037/.conda/envs/torch_book/lib/python3.9/site-packages/torchvision/models/_utils.py:208: UserWarning: The parameter 'pretrained' is deprecated since 0.13 and may be removed in the future, please use 'weights' instead.\n",
      "  warnings.warn(\n",
      "/home/xogns5037/.conda/envs/torch_book/lib/python3.9/site-packages/torchvision/models/_utils.py:223: UserWarning: Arguments other than a weight enum or `None` for 'weights' are deprecated since 0.13 and may be removed in the future. The current behavior is equivalent to passing `weights=ResNet18_Weights.IMAGENET1K_V1`. You can also use `weights=ResNet18_Weights.DEFAULT` to get the most up-to-date weights.\n",
      "  warnings.warn(msg)\n"
     ]
    }
   ],
   "source": [
    "resnet18 = models.resnet18(pretrained=True)\n",
    "# alexnet = models.alexnet(pretrained=True)\n",
    "# vgg16 = models.vgg16(pretrained=True)\n",
    "# squeezenet = models.squeezenet1_0(pretrained=True)\n",
    "# densenet = models.densenet161(pretrained=True)\n",
    "# inception = models.inception_v3(pretrained=True)\n",
    "# googlenet = models.googlenet(pretrained=True)\n",
    "# shufflenet = models.shufflenet_v2_x1_0(pretrained=True)\n",
    "# mobilenet_v2 = models.mobilenet_v2(pretrained=True)\n",
    "# mobilenet_v3_large = models.mobilenet_v3_large(pretrained=True)\n",
    "# mobilenet_v3_small = models.mobilenet_v3_small(pretrained=True)\n",
    "# resnext50_32x4d = models.resnext50_32x4d(pretrained=True)\n",
    "# wide_resnet50_2 = models.wide_resnet50_2(pretrained=True)\n",
    "# mnasnet = models.mnasnet1_0(pretrained=True)"
   ]
  },
  {
   "cell_type": "markdown",
   "metadata": {},
   "source": [
    "### 사전 훈련된 모델의 파라미터 학습 유무 지정"
   ]
  },
  {
   "cell_type": "code",
   "execution_count": 4,
   "metadata": {},
   "outputs": [],
   "source": [
    "def set_parameter_requires_grad(model, feature_extracting=True):\n",
    "    if feature_extracting:\n",
    "        for param in model.parameters():\n",
    "            param.requires_grad = False\n",
    "            \n",
    "set_parameter_requires_grad(resnet18)"
   ]
  },
  {
   "cell_type": "markdown",
   "metadata": {},
   "source": [
    "### 모델의 파라미터 값 확인"
   ]
  },
  {
   "cell_type": "code",
   "execution_count": 5,
   "metadata": {},
   "outputs": [
    {
     "name": "stdout",
     "output_type": "stream",
     "text": [
      "fc.weight tensor([[ 0.0372,  0.0185,  0.0255,  ...,  0.0302, -0.0242,  0.0254],\n",
      "        [ 0.0222,  0.0377,  0.0192,  ..., -0.0347, -0.0185,  0.0298]])\n",
      "fc.bias tensor([-0.0290, -0.0097])\n"
     ]
    }
   ],
   "source": [
    "# ResNet18에 완전연결층 추가\n",
    "resnet18.fc = nn.Linear(512, 2)\n",
    "\n",
    "# 모델의 파라미터 값 확인\n",
    "for name, param in resnet18.named_parameters():\n",
    "    if param.requires_grad:\n",
    "        print(name, param.data)"
   ]
  },
  {
   "cell_type": "markdown",
   "metadata": {},
   "source": [
    "### 모델 객체 생성 및 손실 함수 정의"
   ]
  },
  {
   "cell_type": "code",
   "execution_count": 6,
   "metadata": {},
   "outputs": [
    {
     "name": "stdout",
     "output_type": "stream",
     "text": [
      "ResNet(\n",
      "  (conv1): Conv2d(3, 64, kernel_size=(7, 7), stride=(2, 2), padding=(3, 3), bias=False)\n",
      "  (bn1): BatchNorm2d(64, eps=1e-05, momentum=0.1, affine=True, track_running_stats=True)\n",
      "  (relu): ReLU(inplace=True)\n",
      "  (maxpool): MaxPool2d(kernel_size=3, stride=2, padding=1, dilation=1, ceil_mode=False)\n",
      "  (layer1): Sequential(\n",
      "    (0): BasicBlock(\n",
      "      (conv1): Conv2d(64, 64, kernel_size=(3, 3), stride=(1, 1), padding=(1, 1), bias=False)\n",
      "      (bn1): BatchNorm2d(64, eps=1e-05, momentum=0.1, affine=True, track_running_stats=True)\n",
      "      (relu): ReLU(inplace=True)\n",
      "      (conv2): Conv2d(64, 64, kernel_size=(3, 3), stride=(1, 1), padding=(1, 1), bias=False)\n",
      "      (bn2): BatchNorm2d(64, eps=1e-05, momentum=0.1, affine=True, track_running_stats=True)\n",
      "    )\n",
      "    (1): BasicBlock(\n",
      "      (conv1): Conv2d(64, 64, kernel_size=(3, 3), stride=(1, 1), padding=(1, 1), bias=False)\n",
      "      (bn1): BatchNorm2d(64, eps=1e-05, momentum=0.1, affine=True, track_running_stats=True)\n",
      "      (relu): ReLU(inplace=True)\n",
      "      (conv2): Conv2d(64, 64, kernel_size=(3, 3), stride=(1, 1), padding=(1, 1), bias=False)\n",
      "      (bn2): BatchNorm2d(64, eps=1e-05, momentum=0.1, affine=True, track_running_stats=True)\n",
      "    )\n",
      "  )\n",
      "  (layer2): Sequential(\n",
      "    (0): BasicBlock(\n",
      "      (conv1): Conv2d(64, 128, kernel_size=(3, 3), stride=(2, 2), padding=(1, 1), bias=False)\n",
      "      (bn1): BatchNorm2d(128, eps=1e-05, momentum=0.1, affine=True, track_running_stats=True)\n",
      "      (relu): ReLU(inplace=True)\n",
      "      (conv2): Conv2d(128, 128, kernel_size=(3, 3), stride=(1, 1), padding=(1, 1), bias=False)\n",
      "      (bn2): BatchNorm2d(128, eps=1e-05, momentum=0.1, affine=True, track_running_stats=True)\n",
      "      (downsample): Sequential(\n",
      "        (0): Conv2d(64, 128, kernel_size=(1, 1), stride=(2, 2), bias=False)\n",
      "        (1): BatchNorm2d(128, eps=1e-05, momentum=0.1, affine=True, track_running_stats=True)\n",
      "      )\n",
      "    )\n",
      "    (1): BasicBlock(\n",
      "      (conv1): Conv2d(128, 128, kernel_size=(3, 3), stride=(1, 1), padding=(1, 1), bias=False)\n",
      "      (bn1): BatchNorm2d(128, eps=1e-05, momentum=0.1, affine=True, track_running_stats=True)\n",
      "      (relu): ReLU(inplace=True)\n",
      "      (conv2): Conv2d(128, 128, kernel_size=(3, 3), stride=(1, 1), padding=(1, 1), bias=False)\n",
      "      (bn2): BatchNorm2d(128, eps=1e-05, momentum=0.1, affine=True, track_running_stats=True)\n",
      "    )\n",
      "  )\n",
      "  (layer3): Sequential(\n",
      "    (0): BasicBlock(\n",
      "      (conv1): Conv2d(128, 256, kernel_size=(3, 3), stride=(2, 2), padding=(1, 1), bias=False)\n",
      "      (bn1): BatchNorm2d(256, eps=1e-05, momentum=0.1, affine=True, track_running_stats=True)\n",
      "      (relu): ReLU(inplace=True)\n",
      "      (conv2): Conv2d(256, 256, kernel_size=(3, 3), stride=(1, 1), padding=(1, 1), bias=False)\n",
      "      (bn2): BatchNorm2d(256, eps=1e-05, momentum=0.1, affine=True, track_running_stats=True)\n",
      "      (downsample): Sequential(\n",
      "        (0): Conv2d(128, 256, kernel_size=(1, 1), stride=(2, 2), bias=False)\n",
      "        (1): BatchNorm2d(256, eps=1e-05, momentum=0.1, affine=True, track_running_stats=True)\n",
      "      )\n",
      "    )\n",
      "    (1): BasicBlock(\n",
      "      (conv1): Conv2d(256, 256, kernel_size=(3, 3), stride=(1, 1), padding=(1, 1), bias=False)\n",
      "      (bn1): BatchNorm2d(256, eps=1e-05, momentum=0.1, affine=True, track_running_stats=True)\n",
      "      (relu): ReLU(inplace=True)\n",
      "      (conv2): Conv2d(256, 256, kernel_size=(3, 3), stride=(1, 1), padding=(1, 1), bias=False)\n",
      "      (bn2): BatchNorm2d(256, eps=1e-05, momentum=0.1, affine=True, track_running_stats=True)\n",
      "    )\n",
      "  )\n",
      "  (layer4): Sequential(\n",
      "    (0): BasicBlock(\n",
      "      (conv1): Conv2d(256, 512, kernel_size=(3, 3), stride=(2, 2), padding=(1, 1), bias=False)\n",
      "      (bn1): BatchNorm2d(512, eps=1e-05, momentum=0.1, affine=True, track_running_stats=True)\n",
      "      (relu): ReLU(inplace=True)\n",
      "      (conv2): Conv2d(512, 512, kernel_size=(3, 3), stride=(1, 1), padding=(1, 1), bias=False)\n",
      "      (bn2): BatchNorm2d(512, eps=1e-05, momentum=0.1, affine=True, track_running_stats=True)\n",
      "      (downsample): Sequential(\n",
      "        (0): Conv2d(256, 512, kernel_size=(1, 1), stride=(2, 2), bias=False)\n",
      "        (1): BatchNorm2d(512, eps=1e-05, momentum=0.1, affine=True, track_running_stats=True)\n",
      "      )\n",
      "    )\n",
      "    (1): BasicBlock(\n",
      "      (conv1): Conv2d(512, 512, kernel_size=(3, 3), stride=(1, 1), padding=(1, 1), bias=False)\n",
      "      (bn1): BatchNorm2d(512, eps=1e-05, momentum=0.1, affine=True, track_running_stats=True)\n",
      "      (relu): ReLU(inplace=True)\n",
      "      (conv2): Conv2d(512, 512, kernel_size=(3, 3), stride=(1, 1), padding=(1, 1), bias=False)\n",
      "      (bn2): BatchNorm2d(512, eps=1e-05, momentum=0.1, affine=True, track_running_stats=True)\n",
      "    )\n",
      "  )\n",
      "  (avgpool): AdaptiveAvgPool2d(output_size=(1, 1))\n",
      "  (fc): Linear(in_features=512, out_features=2, bias=True)\n",
      ")\n"
     ]
    }
   ],
   "source": [
    "model = models.resnet18(pretrained=True) # 모델 객체 생성\n",
    "\n",
    "for param in model.parameters(): # 모델의 합성곱층 가중치 고정\n",
    "    param.requires_grad = False\n",
    "\n",
    "model.fc = torch.nn.Linear(512, 2)\n",
    "for param in model.fc.parameters(): # 모델의 완전연결층은 가중치 학습\n",
    "    param.requires_grad = True\n",
    "    \n",
    "optimizer = torch.optim.Adam(model.fc.parameters())\n",
    "cost = torch.nn.CrossEntropyLoss()\n",
    "print(model)"
   ]
  },
  {
   "cell_type": "markdown",
   "metadata": {},
   "source": [
    "### 모델 학습을 위한 함수 생성"
   ]
  },
  {
   "cell_type": "code",
   "execution_count": 7,
   "metadata": {},
   "outputs": [],
   "source": [
    "def train_model(model, dataloaders, criterion, optimizer, device, num_epochs=13, is_train=True):\n",
    "    since = time.time() # 컴퓨터의 현재 시각을 구하는 함수\n",
    "    acc_history = []\n",
    "    loss_history = []\n",
    "    best_acc = 0.0\n",
    "    \n",
    "    for epoch in range(num_epochs):\n",
    "        print('Epoch {}/{}'.format(epoch, num_epochs - 1))\n",
    "        print('-' * 10)\n",
    "        \n",
    "        running_loss = 0.0\n",
    "        runing_corrects = 0    \n",
    "    \n",
    "        for inputs, labels in dataloaders: # 데이터로더에 전달된 데이터만큼 반복\n",
    "            inputs = inputs.to(device)\n",
    "            labels = labels.to(device)\n",
    "            \n",
    "            model.to(device)\n",
    "            optimizer.zero_grad()\n",
    "            outputs = model(inputs)\n",
    "            loss = criterion(outputs, labels)\n",
    "            _, preds = torch.max(outputs, 1)\n",
    "            loss.backward()\n",
    "            optimizer.step()\n",
    "            \n",
    "            running_loss += loss.item() * inputs.size(0) # 출력 결과와 레이블의 오차를 계산한 결과를 누적하여 저장\n",
    "            runing_corrects += torch.sum(preds == labels.data) # 출력 결과와 레이블이 동일한지 확인한 결과를 누적하여 저장\n",
    "        \n",
    "        epoch_loss = running_loss / len(dataloaders.dataset) # 평균 오차 계산\n",
    "        epoch_acc = runing_corrects.double() / len(dataloaders.dataset) # 평균 정확도 계산\n",
    "        print('Loss: {:.4f} Acc: {:.4f}'.format(epoch_loss, epoch_acc))\n",
    "        \n",
    "        if epoch_acc > best_acc:\n",
    "            best_acc = epoch_acc\n",
    "        \n",
    "        acc_history.append(epoch_acc)\n",
    "        torch.save(model.state_dict(), os.path.join('/home/xogns5037/Basic_PyTorch/data/catanddog/model', '{0:0=2d}.pth'.format(epoch))) # 모델 재사용을 위해 저장해 둠\n",
    "        print()\n",
    "\n",
    "    time_elapsed = time.time() - since # 실행 시간(학습 시간)을 계산\n",
    "    print('Training complete in {:.0f}m {:.0f}s'.format(time_elapsed // 60, time_elapsed % 60))\n",
    "    print('Best val Acc: {:4f}'.format(best_acc))\n",
    "    \n",
    "    return acc_history, loss_history # 모델의 정확도와 오차를 반환"
   ]
  },
  {
   "cell_type": "markdown",
   "metadata": {},
   "source": [
    "### 파라미터 학습 결과를 옵티마이저에 전달"
   ]
  },
  {
   "cell_type": "code",
   "execution_count": 8,
   "metadata": {},
   "outputs": [
    {
     "name": "stdout",
     "output_type": "stream",
     "text": [
      "\t fc.weight\n",
      "\t fc.bias\n"
     ]
    }
   ],
   "source": [
    "params_to_update = []\n",
    "for name, param in resnet18.named_parameters():\n",
    "    if param.requires_grad == True:\n",
    "        params_to_update.append(param) # 파라미터 학습 결과를 저장\n",
    "        print(\"\\t\", name)\n",
    "\n",
    "optimizer = optim.Adam(params_to_update) # 학습 결과를 옵티마이저에 전달"
   ]
  },
  {
   "cell_type": "markdown",
   "metadata": {},
   "source": [
    "### 모델 학습"
   ]
  },
  {
   "cell_type": "code",
   "execution_count": 9,
   "metadata": {},
   "outputs": [
    {
     "name": "stdout",
     "output_type": "stream",
     "text": [
      "Epoch 0/12\n",
      "----------\n"
     ]
    },
    {
     "name": "stdout",
     "output_type": "stream",
     "text": [
      "Loss: 0.7057 Acc: 0.5870\n",
      "\n",
      "Epoch 1/12\n",
      "----------\n",
      "Loss: 0.4378 Acc: 0.7870\n",
      "\n",
      "Epoch 2/12\n",
      "----------\n",
      "Loss: 0.3707 Acc: 0.8494\n",
      "\n",
      "Epoch 3/12\n",
      "----------\n",
      "Loss: 0.2983 Acc: 0.8987\n",
      "\n",
      "Epoch 4/12\n",
      "----------\n",
      "Loss: 0.2543 Acc: 0.9065\n",
      "\n",
      "Epoch 5/12\n",
      "----------\n",
      "Loss: 0.2783 Acc: 0.8935\n",
      "\n",
      "Epoch 6/12\n",
      "----------\n",
      "Loss: 0.2223 Acc: 0.9169\n",
      "\n",
      "Epoch 7/12\n",
      "----------\n",
      "Loss: 0.2738 Acc: 0.8805\n",
      "\n",
      "Epoch 8/12\n",
      "----------\n",
      "Loss: 0.2907 Acc: 0.8597\n",
      "\n",
      "Epoch 9/12\n",
      "----------\n",
      "Loss: 0.3454 Acc: 0.8234\n",
      "\n",
      "Epoch 10/12\n",
      "----------\n",
      "Loss: 0.3021 Acc: 0.8597\n",
      "\n",
      "Epoch 11/12\n",
      "----------\n",
      "Loss: 0.1845 Acc: 0.9273\n",
      "\n",
      "Epoch 12/12\n",
      "----------\n",
      "Loss: 0.2182 Acc: 0.8935\n",
      "\n",
      "Training complete in 0m 26s\n",
      "Best val Acc: 0.927273\n"
     ]
    }
   ],
   "source": [
    "device = torch.device(\"cuda:0\" if torch.cuda.is_available() else \"cpu\") # GPU 사용 여부 확인\n",
    "criterion = nn.CrossEntropyLoss() # 손실 함수 지정\n",
    "train_acc_hist, train_loss_hist = train_model(resnet18, train_loader, criterion, optimizer, device) # 학습 함수 호출"
   ]
  },
  {
   "cell_type": "markdown",
   "metadata": {},
   "source": [
    "### 테스트 데이터 평가 함수 생성"
   ]
  },
  {
   "cell_type": "code",
   "execution_count": 10,
   "metadata": {},
   "outputs": [],
   "source": [
    "def eval_model(model, dataloaders, device):\n",
    "    since = time.time()\n",
    "    acc_history = []\n",
    "    best_acc = 0.0\n",
    "    \n",
    "    saved_models = glob.glob('/home/xogns5037/Basic_PyTorch/data/catanddog/model/*.pth')\n",
    "    saved_models.sort()\n",
    "    print('saved_models:', saved_models)\n",
    "    \n",
    "    for model_path in saved_models:\n",
    "        print('Loading model', model_path)\n",
    "        \n",
    "        model.load_state_dict(torch.load(model_path))\n",
    "        model.eval()\n",
    "        model.to(device)\n",
    "        running_corrects = 0\n",
    "    \n",
    "        for inputs, labels in dataloaders:\n",
    "            inputs = inputs.to(device)\n",
    "            labels = labels.to(device)\n",
    "            \n",
    "            with torch.no_grad():\n",
    "                outputs = model(inputs)\n",
    "            \n",
    "            _, preds = torch.max(outputs, 1)  # 가장 높은 클래스 인덱스\n",
    "            preds[preds >= 0.5] = 1 # torch.max()로 출력된 값이 0.5보다 크면 올바르게 예측\n",
    "            preds[preds < 0.5] = 0 # torch.max()로 출력된 값이 0.5보다 작으면 틀리게 예측\n",
    "            running_corrects += preds.eq(labels).int().sum()\n",
    "        epoch_acc = running_corrects.double() / len(dataloaders.dataset)  # 배치 크기로 나누기\n",
    "        print('Acc: {:.4f}'.format(epoch_acc))\n",
    "        acc_history.append(epoch_acc)\n",
    "        print()\n",
    "            \n",
    "        if epoch_acc > best_acc:\n",
    "            best_acc = epoch_acc\n",
    "        \n",
    "    time_elapsed = time.time() - since\n",
    "    print('Validation complete in {:.0f}m {:.0f}s'.format(time_elapsed // 60, time_elapsed % 60))\n",
    "    print('Best val Acc: {:.4f}'.format(best_acc))\n",
    "        \n",
    "    return acc_history\n"
   ]
  },
  {
   "cell_type": "code",
   "execution_count": 11,
   "metadata": {},
   "outputs": [
    {
     "name": "stdout",
     "output_type": "stream",
     "text": [
      "saved_models: ['/home/xogns5037/Basic_PyTorch/data/catanddog/model/00.pth', '/home/xogns5037/Basic_PyTorch/data/catanddog/model/01.pth', '/home/xogns5037/Basic_PyTorch/data/catanddog/model/02.pth', '/home/xogns5037/Basic_PyTorch/data/catanddog/model/03.pth', '/home/xogns5037/Basic_PyTorch/data/catanddog/model/04.pth', '/home/xogns5037/Basic_PyTorch/data/catanddog/model/05.pth', '/home/xogns5037/Basic_PyTorch/data/catanddog/model/06.pth', '/home/xogns5037/Basic_PyTorch/data/catanddog/model/07.pth', '/home/xogns5037/Basic_PyTorch/data/catanddog/model/08.pth', '/home/xogns5037/Basic_PyTorch/data/catanddog/model/09.pth', '/home/xogns5037/Basic_PyTorch/data/catanddog/model/10.pth', '/home/xogns5037/Basic_PyTorch/data/catanddog/model/11.pth', '/home/xogns5037/Basic_PyTorch/data/catanddog/model/12.pth']\n",
      "Loading model /home/xogns5037/Basic_PyTorch/data/catanddog/model/00.pth\n"
     ]
    },
    {
     "name": "stderr",
     "output_type": "stream",
     "text": [
      "/tmp/ipykernel_22641/2931580735.py:13: FutureWarning: You are using `torch.load` with `weights_only=False` (the current default value), which uses the default pickle module implicitly. It is possible to construct malicious pickle data which will execute arbitrary code during unpickling (See https://github.com/pytorch/pytorch/blob/main/SECURITY.md#untrusted-models for more details). In a future release, the default value for `weights_only` will be flipped to `True`. This limits the functions that could be executed during unpickling. Arbitrary objects will no longer be allowed to be loaded via this mode unless they are explicitly allowlisted by the user via `torch.serialization.add_safe_globals`. We recommend you start setting `weights_only=True` for any use case where you don't have full control of the loaded file. Please open an issue on GitHub for any issues related to this experimental feature.\n",
      "  model.load_state_dict(torch.load(model_path))\n"
     ]
    },
    {
     "name": "stdout",
     "output_type": "stream",
     "text": [
      "Acc: 0.7551\n",
      "\n",
      "Loading model /home/xogns5037/Basic_PyTorch/data/catanddog/model/01.pth\n",
      "Acc: 0.8571\n",
      "\n",
      "Loading model /home/xogns5037/Basic_PyTorch/data/catanddog/model/02.pth\n",
      "Acc: 0.8980\n",
      "\n",
      "Loading model /home/xogns5037/Basic_PyTorch/data/catanddog/model/03.pth\n",
      "Acc: 0.9184\n",
      "\n",
      "Loading model /home/xogns5037/Basic_PyTorch/data/catanddog/model/04.pth\n",
      "Acc: 0.8878\n",
      "\n",
      "Loading model /home/xogns5037/Basic_PyTorch/data/catanddog/model/05.pth\n",
      "Acc: 0.9184\n",
      "\n",
      "Loading model /home/xogns5037/Basic_PyTorch/data/catanddog/model/06.pth\n",
      "Acc: 0.9490\n",
      "\n",
      "Loading model /home/xogns5037/Basic_PyTorch/data/catanddog/model/07.pth\n",
      "Acc: 0.9490\n",
      "\n",
      "Loading model /home/xogns5037/Basic_PyTorch/data/catanddog/model/08.pth\n",
      "Acc: 0.9082\n",
      "\n",
      "Loading model /home/xogns5037/Basic_PyTorch/data/catanddog/model/09.pth\n",
      "Acc: 0.8980\n",
      "\n",
      "Loading model /home/xogns5037/Basic_PyTorch/data/catanddog/model/10.pth\n",
      "Acc: 0.8878\n",
      "\n",
      "Loading model /home/xogns5037/Basic_PyTorch/data/catanddog/model/11.pth\n",
      "Acc: 0.8878\n",
      "\n",
      "Loading model /home/xogns5037/Basic_PyTorch/data/catanddog/model/12.pth\n",
      "Acc: 0.8878\n",
      "\n",
      "Validation complete in 0m 14s\n",
      "Best val Acc: 0.9490\n"
     ]
    }
   ],
   "source": [
    "val_acc_hist = eval_model(resnet18, test_loader, device)"
   ]
  },
  {
   "cell_type": "code",
   "execution_count": 12,
   "metadata": {},
   "outputs": [
    {
     "data": {
      "image/png": "[encoded data removed]",
      "text/plain": [
       "<Figure size 640x480 with 1 Axes>"
      ]
     },
     "metadata": {},
     "output_type": "display_data"
    }
   ],
   "source": [
    "train_acc_hist = [acc.cpu().item() if isinstance(acc, torch.Tensor) else acc for acc in train_acc_hist]\n",
    "val_acc_hist = [acc.cpu().item() if isinstance(acc, torch.Tensor) else acc for acc in val_acc_hist]\n",
    "\n",
    "plt.plot(train_acc_hist, label='train')\n",
    "plt.plot(val_acc_hist, label='val')\n",
    "plt.legend()\n",
    "plt.show()"
   ]
  },
  {
   "cell_type": "markdown",
   "metadata": {},
   "source": [
    "### 예측 이미지 출력을 위한 전처리 함수"
   ]
  },
  {
   "cell_type": "code",
   "execution_count": 5,
   "metadata": {},
   "outputs": [],
   "source": [
    "def im_convert(tensor):\n",
    "    image = tensor.clone().detach().numpy()\n",
    "    image = image.transpose(1, 2, 0)\n",
    "    image = image * (np.array(0.5, 0.5, 0.5) + np.array(0.5, 0.5, 0.5))\n",
    "    image = image.clip(0, 1)\n",
    "    return image"
   ]
  },
  {
   "cell_type": "code",
   "execution_count": 6,
   "metadata": {},
   "outputs": [
    {
     "name": "stdout",
     "output_type": "stream",
     "text": [
      "[-1.8 -1.2 -0.7  0.   0.8  1.4  1.9]\n",
      "[-0.5 -0.5 -0.5  0.   0.5  0.5  0.5]\n"
     ]
    }
   ],
   "source": [
    "exam = np.array([-1.8, -1.2, -0.7, 0.0, 0.8, 1.4, 1.9])\n",
    "print(exam)\n",
    "print(np.clip(exam, -0.5, 0.5)) # 입력 값이 주어진 범위를 벗어날 때 입력 값을 특정 범위로 제한시키기 위해 사용"
   ]
  }
 ],
 "metadata": {
  "kernelspec": {
   "display_name": "torch_book",
   "language": "python",
   "name": "python3"
  },
  "language_info": {
   "codemirror_mode": {
    "name": "ipython",
    "version": 3
   },
   "file_extension": ".py",
   "mimetype": "text/x-python",
   "name": "python",
   "nbconvert_exporter": "python",
   "pygments_lexer": "ipython3",
   "version": "3.9.0"
  }
 },
 "nbformat": 4,
 "nbformat_minor": 2
}
